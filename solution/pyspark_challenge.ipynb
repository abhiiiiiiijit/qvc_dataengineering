{
 "cells": [
  {
   "cell_type": "code",
   "execution_count": 5,
   "id": "d9d79b69",
   "metadata": {},
   "outputs": [],
   "source": [
    "from pyspark.sql import SparkSession\n",
    "from pyspark.sql.functions import col, to_date\n",
    "from pyspark.sql.types import DoubleType\n",
    "\n",
    "spark = SparkSession.builder.appName(\"ArticleTransaction\").getOrCreate()\n",
    "\n"
   ]
  },
  {
   "cell_type": "code",
   "execution_count": 8,
   "id": "7940d49d",
   "metadata": {},
   "outputs": [
    {
     "name": "stderr",
     "output_type": "stream",
     "text": [
      "                                                                                \r"
     ]
    }
   ],
   "source": [
    "# Read CSV files with inferred schema and header\n",
    "articles_df = spark.read.csv(\"../article.csv\", header=True, inferSchema=True)\n",
    "transactions_df = spark.read.csv(\"../transactions.csv\", header=True, inferSchema=True)"
   ]
  },
  {
   "cell_type": "code",
   "execution_count": 21,
   "id": "b90abfe5",
   "metadata": {},
   "outputs": [
    {
     "name": "stdout",
     "output_type": "stream",
     "text": [
      "+-------------------+-------------------------+---------------------------+----------+--------------------+----------------------+--------------------+--------------------------------+-------------------+-------------------+\n",
      "|ARTICLE_ID0MATERIAL|ARTICLE_COLOR_ID0RT_COLOR|ARTICLE_GROUP_ID0RT_CONFMAT|EAN0EANUPC|   DESCRIPTION0TXTMD|BRAND_NAME/SOL/MDPROD1|PICTURE_PATH0EXT_URL|INITIAL_SEASON_NAME/SOL/FMSSEASO|CURRENT_SEASON_NAME|MATL_TYPE0MATL_TYPE|\n",
      "+-------------------+-------------------------+---------------------------+----------+--------------------+----------------------+--------------------+--------------------------------+-------------------+-------------------+\n",
      "| 000000000001282247|                     null|                       null|      null|d3dd68a11f543d039...|                    75|                null|                          202008|             202008|               ZMO3|\n",
      "| 000000000001282474|                     null|                       null|      null|d6045a9b489ed9fab...|                    75|                null|                          202010|             202010|               ZMO4|\n",
      "| 000000000002040465|                     null|                       null|      null|2200051f109fd164f...|                    10|                null|                          202007|             202008|               ZMO3|\n",
      "| 000000000002041285|                     null|                       null|      null|8a9eb4021fd0d70a8...|                    50|                null|                          202007|             202007|               ZMO3|\n",
      "| 000000000002041681|                     null|                       null|      null|eb1fb78047d6a068f...|                    10|                null|                          202008|             202008|               ZMO3|\n",
      "+-------------------+-------------------------+---------------------------+----------+--------------------+----------------------+--------------------+--------------------------------+-------------------+-------------------+\n",
      "only showing top 5 rows\n",
      "\n"
     ]
    }
   ],
   "source": [
    "articles_df.na.drop().show(5)"
   ]
  },
  {
   "cell_type": "code",
   "execution_count": 10,
   "id": "4d1738c5",
   "metadata": {},
   "outputs": [
    {
     "name": "stdout",
     "output_type": "stream",
     "text": [
      "+-------------------------+-------------------------+-----------------+-----------------------+---------------------+-------------------+-----------------+------------------------+---------------------+--------------------------------+--------------------------------+-----------+\n",
      "|TRANSACTION_ID/SOL/BONKEY|TRANSACTION_TIME0RPA_ETS2|SALESORG0SALESORG|TRANSACTION_DATE0CALDAY|DISTR_CHAN0DISTR_CHAN|ARTICLE_ID0MATERIAL|LOCATION_ID0PLANT|TRANSACTION_TYPE0RPA_TTC|ARTICLE_COUNT0RPA_RLQ|SALES_PRICE_AT_CASH_DESK0RPA_SAT|SALES_PRICE_PLANNED/SOL/LOC0086C|VAT0RPA_TAM|\n",
      "+-------------------------+-------------------------+-----------------+-----------------------+---------------------+-------------------+-----------------+------------------------+---------------------+--------------------------------+--------------------------------+-----------+\n",
      "|     20210406202400000...|                   121315|             1099|               20210406|                   13|         2062042026|             2024|                    1005|               1.000 |                          10.49 |                          13.99 |      0.00 |\n",
      "|     20210406203300000...|                    90059|             1099|               20210406|                   13|         2058814001|             2033|                    1005|               1.000 |                          25.81 |                          25.99 |      0.00 |\n",
      "|     20210406203900000...|                   184446|             1099|               20210406|                   13|         1259021005|             2039|                    1001|               1.000 |                          47.99 |                          59.99 |      9.58 |\n",
      "|     20210406204000000...|                    85239|             1099|               20210406|                   13|         2060992002|             2040|                    1005|               1.000 |                          59.99 |                          59.99 |      0.00 |\n",
      "|     20210406205200000...|                   125059|             1099|               20210406|                   13|         2058855023|             2052|                    1005|               1.000 |                          15.53 |                          19.99 |      0.00 |\n",
      "+-------------------------+-------------------------+-----------------+-----------------------+---------------------+-------------------+-----------------+------------------------+---------------------+--------------------------------+--------------------------------+-----------+\n",
      "only showing top 5 rows\n",
      "\n"
     ]
    }
   ],
   "source": [
    "transactions_df.show(5)"
   ]
  },
  {
   "cell_type": "code",
   "execution_count": null,
   "id": "5fe05a4c",
   "metadata": {},
   "outputs": [
    {
     "name": "stdout",
     "output_type": "stream",
     "text": [
      "root\n",
      " |-- ARTICLE_ID0MATERIAL: string (nullable = true)\n",
      " |-- ARTICLE_COLOR_ID0RT_COLOR: string (nullable = true)\n",
      " |-- ARTICLE_GROUP_ID0RT_CONFMAT: string (nullable = true)\n",
      " |-- EAN0EANUPC: string (nullable = true)\n",
      " |-- DESCRIPTION0TXTMD: string (nullable = true)\n",
      " |-- BRAND_NAME/SOL/MDPROD1: integer (nullable = true)\n",
      " |-- PICTURE_PATH0EXT_URL: string (nullable = true)\n",
      " |-- INITIAL_SEASON_NAME/SOL/FMSSEASO: integer (nullable = true)\n",
      " |-- CURRENT_SEASON_NAME: integer (nullable = true)\n",
      " |-- MATL_TYPE0MATL_TYPE: string (nullable = true)\n",
      "\n",
      "root\n",
      " |-- TRANSACTION_ID/SOL/BONKEY: decimal(22,0) (nullable = true)\n",
      " |-- TRANSACTION_TIME0RPA_ETS2: integer (nullable = true)\n",
      " |-- SALESORG0SALESORG: integer (nullable = true)\n",
      " |-- TRANSACTION_DATE0CALDAY: integer (nullable = true)\n",
      " |-- DISTR_CHAN0DISTR_CHAN: integer (nullable = true)\n",
      " |-- ARTICLE_ID0MATERIAL: long (nullable = true)\n",
      " |-- LOCATION_ID0PLANT: integer (nullable = true)\n",
      " |-- TRANSACTION_TYPE0RPA_TTC: integer (nullable = true)\n",
      " |-- ARTICLE_COUNT0RPA_RLQ: string (nullable = true)\n",
      " |-- SALES_PRICE_AT_CASH_DESK0RPA_SAT: string (nullable = true)\n",
      " |-- SALES_PRICE_PLANNED/SOL/LOC0086C: string (nullable = true)\n",
      " |-- VAT0RPA_TAM: string (nullable = true)\n",
      "\n"
     ]
    },
    {
     "name": "stderr",
     "output_type": "stream",
     "text": [
      "Bad pipe message: %s [b'\"Google Chrome\";v=\"137\", \"Chromium\";v=\"137\", \"Not/A)Brand']\n",
      "Bad pipe message: %s [b'ol: max-age=0\\r\\nsec-ch-ua: \"Google Chrome\";v=\"137\", \"Chromium\";v=\"137\", \"Not/A)Brand\";v=\"24\"\\r\\nsec-ch-ua-mobile: ?0\\r\\n']\n",
      "Bad pipe message: %s [b'c-ch-ua-platform: \"Windows\"\\r\\nUpgrade-Insecure-Requests: 1\\r\\nUser-Agent: Mozilla/5.0 (Windows NT 10.0; Win64; x64) A', b'leWebKit/537.36 (KHTML, like Gecko) Chrome/137.0.0.0 Safari/537.36\\r\\nAccept: text/html,application/xhtml+xml,app']\n",
      "Bad pipe message: %s [b'cation/xml;q=0.9,image/avif,image/webp,image/apng,*/*;q=0.8,application/signed-exchange;v=b3;q=0.7\\r\\nSec-Fet', b'-Site: none\\r\\nSec-Fetch-Mode: navigate\\r\\nSec-Fetch-User: ?1\\r\\nSec-Fetch-Dest: document\\r\\nAccept-Encodi']\n"
     ]
    }
   ],
   "source": [
    "articles_df.printSchema()\n",
    "transactions_df.printSchema()"
   ]
  },
  {
   "cell_type": "code",
   "execution_count": 12,
   "id": "f3731ab0",
   "metadata": {},
   "outputs": [
    {
     "name": "stderr",
     "output_type": "stream",
     "text": [
      "25/06/09 21:33:57 WARN SparkStringUtils: Truncated the string representation of a plan since it was too large. This behavior can be adjusted by setting 'spark.sql.debug.maxToStringFields'.\n",
      "[Stage 12:====================================>                     (5 + 3) / 8]\r"
     ]
    },
    {
     "name": "stdout",
     "output_type": "stream",
     "text": [
      "+-------+--------------------+-------------------------+---------------------------+--------------------+--------------------+----------------------+--------------------+--------------------------------+-------------------+-------------------+\n",
      "|summary| ARTICLE_ID0MATERIAL|ARTICLE_COLOR_ID0RT_COLOR|ARTICLE_GROUP_ID0RT_CONFMAT|          EAN0EANUPC|   DESCRIPTION0TXTMD|BRAND_NAME/SOL/MDPROD1|PICTURE_PATH0EXT_URL|INITIAL_SEASON_NAME/SOL/FMSSEASO|CURRENT_SEASON_NAME|MATL_TYPE0MATL_TYPE|\n",
      "+-------+--------------------+-------------------------+---------------------------+--------------------+--------------------+----------------------+--------------------+--------------------------------+-------------------+-------------------+\n",
      "|  count|              223893|                   223893|                     223893|              223893|              223893|                223893|              223893|                          223893|             223893|             223893|\n",
      "|   mean|1.9446410108013875E9|      4.176577340806909E7|          2041446.129349201|4.063285975301954E12|                NULL|    25.145046964398173|                NULL|              202039.57318897865|  202041.2494003832|               NULL|\n",
      "| stddev| 4.457268816574297E8|      1.799205260761393E9|         105570.64867724694|1.4306877337560167E9|                NULL|    22.113473310529464|                NULL|               47.61538299067249|  44.15874853662077|               NULL|\n",
      "|    min|  000000000001109133|                     0000|         000000000001109133|       4045087329251|00018ac2762ccac84...|                    10|0002fc39b759dd793...|                          201503|             202007|               ZMO1|\n",
      "|    max|         S2105338012|                     null|                       null|                null|fffe8fc13d099c2cc...|                    90|                null|                          202112|             202103|               ZSE3|\n",
      "+-------+--------------------+-------------------------+---------------------------+--------------------+--------------------+----------------------+--------------------+--------------------------------+-------------------+-------------------+\n",
      "\n"
     ]
    },
    {
     "name": "stderr",
     "output_type": "stream",
     "text": [
      "                                                                                \r"
     ]
    }
   ],
   "source": [
    "articles_df.describe().show()"
   ]
  },
  {
   "cell_type": "code",
   "execution_count": 13,
   "id": "3eb1e83b",
   "metadata": {},
   "outputs": [
    {
     "name": "stderr",
     "output_type": "stream",
     "text": [
      "[Stage 15:>                                                         (0 + 1) / 1]\r"
     ]
    },
    {
     "name": "stdout",
     "output_type": "stream",
     "text": [
      "+-------+-------------------------+-------------------------+-----------------+-----------------------+---------------------+--------------------+------------------+------------------------+---------------------+--------------------------------+--------------------------------+------------------+\n",
      "|summary|TRANSACTION_ID/SOL/BONKEY|TRANSACTION_TIME0RPA_ETS2|SALESORG0SALESORG|TRANSACTION_DATE0CALDAY|DISTR_CHAN0DISTR_CHAN| ARTICLE_ID0MATERIAL| LOCATION_ID0PLANT|TRANSACTION_TYPE0RPA_TTC|ARTICLE_COUNT0RPA_RLQ|SALES_PRICE_AT_CASH_DESK0RPA_SAT|SALES_PRICE_PLANNED/SOL/LOC0086C|       VAT0RPA_TAM|\n",
      "+-------+-------------------------+-------------------------+-----------------+-----------------------+---------------------+--------------------+------------------+------------------------+---------------------+--------------------------------+--------------------------------+------------------+\n",
      "|  count|                    14779|                    14779|            14779|                  14779|                14779|               14779|             14779|                   14779|                14779|                           14779|                           14779|             14779|\n",
      "|   mean|     20210407261108038...|        131355.0075783206|1313.194059137966|    2.021040689803099E7|                 13.0|1.9305104398102036E9|3630.7704851478447|      1002.2914270248325|   1.0044957808825563|              31.847014749667494|               39.38376538939851|  3.41809068881972|\n",
      "| stddev|     8.569193021555414E13|       25758.895498327445|384.0770979592195|     0.8252073442473342|                  0.0|  7.01340488268121E8|2170.2575786620982|      1.8695772180962487|  0.09935385571345134|               21.78693354633024|               26.80898027258801|3.9755982617007404|\n",
      "|    min|     20210406202400000...|                    73031|             1099|               20210406|                   13|               20260|              2024|                    1001|               0.000 |                           0.00 |                           0.00 |             0.00 |\n",
      "|    max|     20210408782600000...|                   210209|             2010|               20210408|                   13|          6004912001|              7827|                    1005|               6.000 |                          99.99-|                          99.99-|             9.96 |\n",
      "+-------+-------------------------+-------------------------+-----------------+-----------------------+---------------------+--------------------+------------------+------------------------+---------------------+--------------------------------+--------------------------------+------------------+\n",
      "\n"
     ]
    },
    {
     "name": "stderr",
     "output_type": "stream",
     "text": [
      "                                                                                \r"
     ]
    }
   ],
   "source": [
    "transactions_df.describe().show()"
   ]
  },
  {
   "cell_type": "code",
   "execution_count": null,
   "id": "b3da2672",
   "metadata": {},
   "outputs": [],
   "source": []
  }
 ],
 "metadata": {
  "kernelspec": {
   "display_name": "qvc-dataengineering-bK_VmtfF-py3.10",
   "language": "python",
   "name": "python3"
  },
  "language_info": {
   "codemirror_mode": {
    "name": "ipython",
    "version": 3
   },
   "file_extension": ".py",
   "mimetype": "text/x-python",
   "name": "python",
   "nbconvert_exporter": "python",
   "pygments_lexer": "ipython3",
   "version": "3.10.12"
  }
 },
 "nbformat": 4,
 "nbformat_minor": 5
}
