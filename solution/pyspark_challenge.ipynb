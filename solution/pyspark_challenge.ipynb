{
 "cells": [
  {
   "cell_type": "code",
   "execution_count": 92,
   "id": "d9d79b69",
   "metadata": {},
   "outputs": [],
   "source": [
    "from pyspark.sql import SparkSession\n",
    "from pyspark.sql.functions import col, to_date\n",
    "from pyspark.sql.types import DoubleType, LongType,IntegerType, DateType\n",
    "\n"
   ]
  },
  {
   "cell_type": "code",
   "execution_count": 2,
   "id": "640c0bbc",
   "metadata": {},
   "outputs": [
    {
     "name": "stderr",
     "output_type": "stream",
     "text": [
      "your 131072x1 screen size is bogus. expect trouble\n",
      "25/06/10 00:29:07 WARN Utils: Your hostname, Abhijit resolves to a loopback address: 127.0.1.1; using 10.255.255.254 instead (on interface lo)\n",
      "25/06/10 00:29:07 WARN Utils: Set SPARK_LOCAL_IP if you need to bind to another address\n",
      "Setting default log level to \"WARN\".\n",
      "To adjust logging level use sc.setLogLevel(newLevel). For SparkR, use setLogLevel(newLevel).\n",
      "25/06/10 00:29:08 WARN NativeCodeLoader: Unable to load native-hadoop library for your platform... using builtin-java classes where applicable\n"
     ]
    }
   ],
   "source": [
    "spark = SparkSession.builder.appName(\"ArticleTransaction\").getOrCreate()"
   ]
  },
  {
   "cell_type": "code",
   "execution_count": 82,
   "id": "7940d49d",
   "metadata": {},
   "outputs": [],
   "source": [
    "# Read CSV files with inferred schema and header\n",
    "articles_df = spark.read.csv(\"../article.csv\", header=True, inferSchema=False)\n",
    "transactions_df = spark.read.csv(\"../transactions.csv\", header=True, inferSchema=False)"
   ]
  },
  {
   "cell_type": "markdown",
   "id": "49a151d6",
   "metadata": {},
   "source": [
    "## Article DF inital exploration"
   ]
  },
  {
   "cell_type": "code",
   "execution_count": null,
   "id": "b90abfe5",
   "metadata": {},
   "outputs": [
    {
     "name": "stdout",
     "output_type": "stream",
     "text": [
      "Articles DataFrame:\n",
      "+-------------------+-------------------------+---------------------------+----------+--------------------+----------------------+--------------------+--------------------------------+-------------------+-------------------+\n",
      "|ARTICLE_ID0MATERIAL|ARTICLE_COLOR_ID0RT_COLOR|ARTICLE_GROUP_ID0RT_CONFMAT|EAN0EANUPC|   DESCRIPTION0TXTMD|BRAND_NAME/SOL/MDPROD1|PICTURE_PATH0EXT_URL|INITIAL_SEASON_NAME/SOL/FMSSEASO|CURRENT_SEASON_NAME|MATL_TYPE0MATL_TYPE|\n",
      "+-------------------+-------------------------+---------------------------+----------+--------------------+----------------------+--------------------+--------------------------------+-------------------+-------------------+\n",
      "| 000000000001282247|                     null|                       null|      null|d3dd68a11f543d039...|                    75|                null|                          202008|             202008|               ZMO3|\n",
      "| 000000000001282474|                     null|                       null|      null|d6045a9b489ed9fab...|                    75|                null|                          202010|             202010|               ZMO4|\n",
      "| 000000000002040465|                     null|                       null|      null|2200051f109fd164f...|                    10|                null|                          202007|             202008|               ZMO3|\n",
      "| 000000000002041285|                     null|                       null|      null|8a9eb4021fd0d70a8...|                    50|                null|                          202007|             202007|               ZMO3|\n",
      "| 000000000002041681|                     null|                       null|      null|eb1fb78047d6a068f...|                    10|                null|                          202008|             202008|               ZMO3|\n",
      "+-------------------+-------------------------+---------------------------+----------+--------------------+----------------------+--------------------+--------------------------------+-------------------+-------------------+\n",
      "only showing top 5 rows\n",
      "\n",
      "Articles DataFrame Schema:\n",
      "root\n",
      " |-- ARTICLE_ID0MATERIAL: string (nullable = true)\n",
      " |-- ARTICLE_COLOR_ID0RT_COLOR: string (nullable = true)\n",
      " |-- ARTICLE_GROUP_ID0RT_CONFMAT: string (nullable = true)\n",
      " |-- EAN0EANUPC: string (nullable = true)\n",
      " |-- DESCRIPTION0TXTMD: string (nullable = true)\n",
      " |-- BRAND_NAME/SOL/MDPROD1: string (nullable = true)\n",
      " |-- PICTURE_PATH0EXT_URL: string (nullable = true)\n",
      " |-- INITIAL_SEASON_NAME/SOL/FMSSEASO: string (nullable = true)\n",
      " |-- CURRENT_SEASON_NAME: string (nullable = true)\n",
      " |-- MATL_TYPE0MATL_TYPE: string (nullable = true)\n",
      "\n",
      "Count of Articles DataFrame: 223893\n",
      "Unique Article IDs in Articles DataFrame: 223893\n",
      "Duplicate ARTICLE_ID0MATERIAL rows: 0\n",
      "Is Article ID having null values? False\n",
      "Is Article ID having empty values? False\n",
      "Is Article ID having empty null values? False\n"
     ]
    }
   ],
   "source": [
    "print(\"Articles DataFrame:\")\n",
    "articles_df.show(5)\n",
    "print(\"Articles DataFrame Schema:\")\n",
    "articles_df.printSchema()\n",
    "print(\"Count of Articles DataFrame:\", articles_df.count())\n",
    "print(\"Unique Article IDs in Articles DataFrame:\", articles_df.select(\"ARTICLE_ID0MATERIAL\").distinct().count())\n",
    "# 4.1 Check for duplicate keys in ARTICLE\n",
    "dup_articles = articles_df.groupBy(\"ARTICLE_ID0MATERIAL\").count().filter(col(\"count\") > 1)\n",
    "print(\"Duplicate ARTICLE_ID0MATERIAL rows:\", dup_articles.count())\n",
    "\n",
    "print(\"Is Article ID having null values?\", articles_df.filter(col(\"ARTICLE_ID0MATERIAL\").isNull()).count() > 0)\n",
    "print(\"Is Article ID having empty values?\", articles_df.filter(col(\"ARTICLE_ID0MATERIAL\") == \"\").count() > 0)\n",
    "print(\"Is Article ID having empty null strings?\", articles_df.filter(col(\"ARTICLE_ID0MATERIAL\") == \"null\").count() > 0)\n",
    "# print(\"Article df statistics:\")\n",
    "# articles_df.describe().show()"
   ]
  },
  {
   "cell_type": "markdown",
   "id": "65b2cd2b",
   "metadata": {},
   "source": [
    "### I can observe ARTICLE_ID0MATERIAL is long. Lot of column values are having \"null\" string which can be converted to actual null values. There are no duplicate rows in article dataframe. Lot of column can make use of datatype change."
   ]
  },
  {
   "cell_type": "code",
   "execution_count": 109,
   "id": "6fa7a740",
   "metadata": {},
   "outputs": [
    {
     "name": "stdout",
     "output_type": "stream",
     "text": [
      "+-------------------+-------------------------+---------------------------+----------+--------------------+----------------------+--------------------+--------------------------------+-------------------+-------------------+\n",
      "|ARTICLE_ID0MATERIAL|ARTICLE_COLOR_ID0RT_COLOR|ARTICLE_GROUP_ID0RT_CONFMAT|EAN0EANUPC|   DESCRIPTION0TXTMD|BRAND_NAME/SOL/MDPROD1|PICTURE_PATH0EXT_URL|INITIAL_SEASON_NAME/SOL/FMSSEASO|CURRENT_SEASON_NAME|MATL_TYPE0MATL_TYPE|\n",
      "+-------------------+-------------------------+---------------------------+----------+--------------------+----------------------+--------------------+--------------------------------+-------------------+-------------------+\n",
      "|            1282247|                     NULL|                       NULL|      NULL|d3dd68a11f543d039...|                    75|                NULL|                          202008|             202008|               ZMO3|\n",
      "|            1282474|                     NULL|                       NULL|      NULL|d6045a9b489ed9fab...|                    75|                NULL|                          202010|             202010|               ZMO4|\n",
      "|            2040465|                     NULL|                       NULL|      NULL|2200051f109fd164f...|                    10|                NULL|                          202007|             202008|               ZMO3|\n",
      "|            2041285|                     NULL|                       NULL|      NULL|8a9eb4021fd0d70a8...|                    50|                NULL|                          202007|             202007|               ZMO3|\n",
      "|            2041681|                     NULL|                       NULL|      NULL|eb1fb78047d6a068f...|                    10|                NULL|                          202008|             202008|               ZMO3|\n",
      "+-------------------+-------------------------+---------------------------+----------+--------------------+----------------------+--------------------+--------------------------------+-------------------+-------------------+\n",
      "only showing top 5 rows\n",
      "\n"
     ]
    }
   ],
   "source": [
    "# Replace \"null\" strings with actual nulls\n",
    "cleaned_articles_df = articles_df.replace(\"null\", None)\n",
    "\n",
    "#Type conversion\n",
    "cleaned_articles_df = (\n",
    "    cleaned_articles_df\n",
    "      # numeric identifiers → LongType\n",
    "      .withColumn(\"ARTICLE_ID0MATERIAL\",   col(\"ARTICLE_ID0MATERIAL\").cast(LongType()))\n",
    "      .withColumn(\"ARTICLE_GROUP_ID0RT_CONFMAT\", col(\"ARTICLE_GROUP_ID0RT_CONFMAT\").cast(LongType()))\n",
    "      .withColumn(\"EAN0EANUPC\", col(\"EAN0EANUPC\").cast(LongType()))\n",
    "      .withColumn(\"BRAND_NAME/SOL/MDPROD1\",     col(\"BRAND_NAME/SOL/MDPROD1\").cast(IntegerType()))\n",
    "      .withColumn(\"INITIAL_SEASON_NAME/SOL/FMSSEASO\",     col(\"INITIAL_SEASON_NAME/SOL/FMSSEASO\").cast(IntegerType()))\n",
    "      .withColumn(\"CURRENT_SEASON_NAME\",     col(\"CURRENT_SEASON_NAME\").cast(IntegerType()))\n",
    "\n",
    ")\n",
    "\n",
    "cleaned_articles_df.show(5)"
   ]
  },
  {
   "cell_type": "markdown",
   "id": "6ff897f6",
   "metadata": {},
   "source": [
    "## Transaction DF initial exploration"
   ]
  },
  {
   "cell_type": "code",
   "execution_count": 108,
   "id": "4d1738c5",
   "metadata": {},
   "outputs": [
    {
     "name": "stdout",
     "output_type": "stream",
     "text": [
      "Transaction DataFrame:\n",
      "+-------------------------+-------------------------+-----------------+-----------------------+---------------------+-------------------+-----------------+------------------------+---------------------+--------------------------------+--------------------------------+-----------+\n",
      "|TRANSACTION_ID/SOL/BONKEY|TRANSACTION_TIME0RPA_ETS2|SALESORG0SALESORG|TRANSACTION_DATE0CALDAY|DISTR_CHAN0DISTR_CHAN|ARTICLE_ID0MATERIAL|LOCATION_ID0PLANT|TRANSACTION_TYPE0RPA_TTC|ARTICLE_COUNT0RPA_RLQ|SALES_PRICE_AT_CASH_DESK0RPA_SAT|SALES_PRICE_PLANNED/SOL/LOC0086C|VAT0RPA_TAM|\n",
      "+-------------------------+-------------------------+-----------------+-----------------------+---------------------+-------------------+-----------------+------------------------+---------------------+--------------------------------+--------------------------------+-----------+\n",
      "|0002021040620240000000061|121315                   |1099             |20210406               |13                   |000000002062042026 |2024             |1005                    |1.000                |10.49                           |13.99                           |0.00       |\n",
      "|0002021040620330000000002|090059                   |1099             |20210406               |13                   |000000002058814001 |2033             |1005                    |1.000                |25.81                           |25.99                           |0.00       |\n",
      "|0002021040620390000000170|184446                   |1099             |20210406               |13                   |000000001259021005 |2039             |1001                    |1.000                |47.99                           |59.99                           |9.58       |\n",
      "|0002021040620400000000013|085239                   |1099             |20210406               |13                   |000000002060992002 |2040             |1005                    |1.000                |59.99                           |59.99                           |0.00       |\n",
      "|0002021040620520000000045|125059                   |1099             |20210406               |13                   |000000002058855023 |2052             |1005                    |1.000                |15.53                           |19.99                           |0.00       |\n",
      "+-------------------------+-------------------------+-----------------+-----------------------+---------------------+-------------------+-----------------+------------------------+---------------------+--------------------------------+--------------------------------+-----------+\n",
      "only showing top 5 rows\n",
      "\n",
      "Count of Transaction DataFrame: 14779\n",
      "Unique TRANSACTION_ID in Transaction DataFrame: 7430\n",
      "Duplicate TRANSACTION_ID/SOL/BONKEY rows: 3147\n",
      "Duplicate TRANSACTION_ID/SOL/BONKEY, ARTICLE_ID0MATERIAL rows: 0\n",
      "Unique TRANSACTION_ID, Article ID in Transaction DataFrame: 14779\n",
      "Is Article ID having null values? False\n",
      "Is Article ID having empty values? False\n",
      "Is Article ID having empty null strings? False\n",
      "Is Transaction ID having null values? False\n",
      "Is Transaction ID having empty values? False\n",
      "Is Transaction ID having empty null strings? False\n"
     ]
    }
   ],
   "source": [
    "print(\"Transaction DataFrame:\")\n",
    "transactions_df.show(5,truncate=False)\n",
    "# print(\"Transaction DataFrame Schema:\")\n",
    "# transactions_df.printSchema()\n",
    "print(\"Count of Transaction DataFrame:\", transactions_df.count())\n",
    "print(\"Unique TRANSACTION_ID in Transaction DataFrame:\", transactions_df.select(\"TRANSACTION_ID/SOL/BONKEY\").distinct().count())\n",
    "# 4.1 Check for duplicate keys in ARTICLE\n",
    "dup_transaction = transactions_df.groupBy(\"TRANSACTION_ID/SOL/BONKEY\").count().filter(col(\"count\") > 1)\n",
    "print(\"Duplicate TRANSACTION_ID/SOL/BONKEY rows:\", dup_transaction.count())\n",
    "dup_transaction = transactions_df.groupBy([\"TRANSACTION_ID/SOL/BONKEY\",\"ARTICLE_ID0MATERIAL\"]).count().filter(col(\"count\") > 1)\n",
    "print(\"Duplicate TRANSACTION_ID/SOL/BONKEY, ARTICLE_ID0MATERIAL rows:\", dup_transaction.count())\n",
    "print(\"Unique TRANSACTION_ID, Article ID in Transaction DataFrame:\", transactions_df.select([\"TRANSACTION_ID/SOL/BONKEY\", \"ARTICLE_ID0MATERIAL\"]).distinct().count())\n",
    "\n",
    "print(\"Is Article ID having null values?\", transactions_df.filter(col(\"ARTICLE_ID0MATERIAL\").isNull()).count() > 0)\n",
    "print(\"Is Article ID having empty values?\", transactions_df.filter(col(\"ARTICLE_ID0MATERIAL\") == \"\").count() > 0)\n",
    "print(\"Is Article ID having empty null strings?\", transactions_df.filter(col(\"ARTICLE_ID0MATERIAL\") == \"null\").count() > 0)\n",
    "\n",
    "print(\"Is Transaction ID having null values?\", transactions_df.filter(col(\"TRANSACTION_ID/SOL/BONKEY\").isNull()).count() > 0)\n",
    "print(\"Is Transaction ID having empty values?\", transactions_df.filter(col(\"TRANSACTION_ID/SOL/BONKEY\") == \"\").count() > 0)\n",
    "print(\"Is Transaction ID having empty null strings?\", transactions_df.filter(col(\"TRANSACTION_ID/SOL/BONKEY\") == \"null\").count() > 0)"
   ]
  },
  {
   "cell_type": "markdown",
   "id": "4affa18e",
   "metadata": {},
   "source": [
    "### After analysis I found that the data does not have any duplicate rows. It has a composite key (TRANSACTION_ID/SOL/BONKEY and ARTICLE_ID0MATERIAL). The data type of the coulmns needs to be defined explicitly."
   ]
  },
  {
   "cell_type": "code",
   "execution_count": null,
   "id": "f7023f20",
   "metadata": {},
   "outputs": [
    {
     "name": "stdout",
     "output_type": "stream",
     "text": [
      "+-------------------------+-----+\n",
      "|TRANSACTION_ID/SOL/BONKEY|count|\n",
      "+-------------------------+-----+\n",
      "|0002021040620990000000016|2    |\n",
      "|0002021040861250000000007|2    |\n",
      "|0002021040620240000000139|2    |\n",
      "|0002021040844050000000076|3    |\n",
      "|0002021040720390000000157|3    |\n",
      "|0002021040722300000000010|3    |\n",
      "|0002021040820610000000003|3    |\n",
      "|0002021040760970000000074|2    |\n",
      "|0002021040820810000000009|2    |\n",
      "|0002021040641280000000002|2    |\n",
      "|0002021040878180000000052|2    |\n",
      "|0002021040720240000000117|13   |\n",
      "|0002021040840210000000033|3    |\n",
      "|0002021040622300000000053|2    |\n",
      "|0002021040777870000000036|5    |\n",
      "|0002021040663390000000016|3    |\n",
      "|0002021040673370000000104|2    |\n",
      "|0002021040720390000000009|4    |\n",
      "|0002021040721110000000020|5    |\n",
      "|0002021040622310000000047|3    |\n",
      "+-------------------------+-----+\n",
      "only showing top 20 rows\n",
      "\n",
      "root\n",
      " |-- TRANSACTION_ID/SOL/BONKEY: string (nullable = true)\n",
      " |-- count: long (nullable = false)\n",
      "\n"
     ]
    }
   ],
   "source": [
    "# Replace \"null\" strings with actual nulls\n",
    "cleaned_transactions_df = transactions_df.replace(\"null\", None)\n",
    "\n",
    "#Type conversion\n",
    "cleaned_transactions_df = (\n",
    "    cleaned_transactions_df\n",
    "      # numeric identifiers → LongType\n",
    "      .withColumn(\"ARTICLE_ID0MATERIAL\",   col(\"ARTICLE_ID0MATERIAL\").cast(LongType()))\n",
    "      .withColumn(\"ARTICLE_GROUP_ID0RT_CONFMAT\", col(\"ARTICLE_GROUP_ID0RT_CONFMAT\").cast(LongType()))\n",
    "      .withColumn(\"EAN0EANUPC\", col(\"EAN0EANUPC\").cast(LongType()))\n",
    "      .withColumn(\"BRAND_NAME/SOL/MDPROD1\",     col(\"BRAND_NAME/SOL/MDPROD1\").cast(IntegerType()))\n",
    "      .withColumn(\"INITIAL_SEASON_NAME/SOL/FMSSEASO\",     col(\"INITIAL_SEASON_NAME/SOL/FMSSEASO\").cast(IntegerType()))\n",
    "      .withColumn(\"CURRENT_SEASON_NAME\",     col(\"CURRENT_SEASON_NAME\").cast(IntegerType()))\n",
    "\n",
    ")\n",
    "\n",
    "cleaned_transactions_df.show(5)"
   ]
  },
  {
   "cell_type": "code",
   "execution_count": 80,
   "id": "39befa97",
   "metadata": {},
   "outputs": [
    {
     "name": "stdout",
     "output_type": "stream",
     "text": [
      "+-------------------------+-------------------------+-----------------+-----------------------+---------------------+-------------------+-----------------+------------------------+---------------------+--------------------------------+--------------------------------+-----------+\n",
      "|TRANSACTION_ID/SOL/BONKEY|TRANSACTION_TIME0RPA_ETS2|SALESORG0SALESORG|TRANSACTION_DATE0CALDAY|DISTR_CHAN0DISTR_CHAN|ARTICLE_ID0MATERIAL|LOCATION_ID0PLANT|TRANSACTION_TYPE0RPA_TTC|ARTICLE_COUNT0RPA_RLQ|SALES_PRICE_AT_CASH_DESK0RPA_SAT|SALES_PRICE_PLANNED/SOL/LOC0086C|VAT0RPA_TAM|\n",
      "+-------------------------+-------------------------+-----------------+-----------------------+---------------------+-------------------+-----------------+------------------------+---------------------+--------------------------------+--------------------------------+-----------+\n",
      "|0002021040720240000000117|155608                   |1099             |20210407               |13                   |000000002060679001 |2024             |1001                    |1.000                |31.99                           |39.99                           |5.11       |\n",
      "|0002021040720240000000117|155608                   |1099             |20210407               |13                   |000000000000050080 |2024             |1001                    |1.000                |0.15                            |0.15                            |0.02       |\n",
      "|0002021040720240000000117|155608                   |1099             |20210407               |13                   |000000002059613004 |2024             |1001                    |1.000                |55.99                           |69.99                           |8.94       |\n",
      "|0002021040720240000000117|155608                   |1099             |20210407               |13                   |000000002060672001 |2024             |1001                    |1.000                |11.19                           |13.99                           |1.79       |\n",
      "|0002021040720240000000117|155608                   |1099             |20210407               |13                   |000000002100670001 |2024             |1001                    |1.000                |23.99                           |29.99                           |3.83       |\n",
      "|0002021040720240000000117|155608                   |1099             |20210407               |13                   |000000006002000006 |2024             |1001                    |1.000                |7.99                            |9.99                            |1.28       |\n",
      "|0002021040720240000000117|155608                   |1099             |20210407               |13                   |000000002060898036 |2024             |1001                    |1.000                |39.99                           |49.99                           |6.39       |\n",
      "|0002021040720240000000117|155608                   |1099             |20210407               |13                   |000000002057951013 |2024             |1001                    |1.000                |15.99                           |19.99                           |2.55       |\n",
      "|0002021040720240000000117|155608                   |1099             |20210407               |13                   |000000002058216037 |2024             |1001                    |1.000                |39.99                           |49.99                           |6.39       |\n",
      "|0002021040720240000000117|155608                   |1099             |20210407               |13                   |000000001142388012 |2024             |1001                    |1.000                |7.96                            |9.95                            |1.27       |\n",
      "|0002021040720240000000117|155608                   |1099             |20210407               |13                   |000000002100936001 |2024             |1001                    |1.000                |12.79                           |15.99                           |2.04       |\n",
      "|0002021040720240000000117|155608                   |1099             |20210407               |13                   |000000002064691014 |2024             |1001                    |1.000                |47.99                           |59.99                           |7.66       |\n",
      "|0002021040720240000000117|155608                   |1099             |20210407               |13                   |000000002061606012 |2024             |1001                    |1.000                |55.99                           |69.99                           |8.94       |\n",
      "+-------------------------+-------------------------+-----------------+-----------------------+---------------------+-------------------+-----------------+------------------------+---------------------+--------------------------------+--------------------------------+-----------+\n",
      "\n"
     ]
    }
   ],
   "source": [
    "dup_transaction_1 = transactions_df.filter(transactions_df['TRANSACTION_ID/SOL/BONKEY'] == '0002021040720240000000117' )\n",
    "dup_transaction_1.show( truncate=False)"
   ]
  },
  {
   "cell_type": "code",
   "execution_count": 22,
   "id": "b3da2672",
   "metadata": {},
   "outputs": [],
   "source": [
    "spark.stop()"
   ]
  }
 ],
 "metadata": {
  "kernelspec": {
   "display_name": "qvc-dataengineering-bK_VmtfF-py3.10",
   "language": "python",
   "name": "python3"
  },
  "language_info": {
   "codemirror_mode": {
    "name": "ipython",
    "version": 3
   },
   "file_extension": ".py",
   "mimetype": "text/x-python",
   "name": "python",
   "nbconvert_exporter": "python",
   "pygments_lexer": "ipython3",
   "version": "3.10.12"
  }
 },
 "nbformat": 4,
 "nbformat_minor": 5
}
